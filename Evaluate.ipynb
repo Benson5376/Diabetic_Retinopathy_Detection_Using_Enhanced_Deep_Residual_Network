{
 "cells": [
  {
   "cell_type": "code",
   "execution_count": 1,
   "metadata": {},
   "outputs": [
    {
     "name": "stderr",
     "output_type": "stream",
     "text": [
      "c:\\Users\\狂小托\\AppData\\Local\\Programs\\Python\\Python310\\lib\\site-packages\\tqdm\\auto.py:21: TqdmWarning: IProgress not found. Please update jupyter and ipywidgets. See https://ipywidgets.readthedocs.io/en/stable/user_install.html\n",
      "  from .autonotebook import tqdm as notebook_tqdm\n"
     ]
    }
   ],
   "source": [
    "import torch\n",
    "import torch.nn as nn\n",
    "from torch.utils.data import DataLoader,TensorDataset\n",
    "import torch.optim as optim\n",
    "import numpy as np\n",
    "import torchvision.models as torch_models\n",
    "from dataloader import RetinopathyLoader, getData\n",
    "import torchvision.models as models\n",
    "from torchvision import transforms\n",
    "import matplotlib.pyplot as plt\n",
    "from tqdm import tqdm\n",
    "from PIL import ImageFile\n",
    "ImageFile.LOAD_TRUNCATED_IMAGES = True"
   ]
  },
  {
   "cell_type": "code",
   "execution_count": 2,
   "metadata": {},
   "outputs": [
    {
     "name": "stdout",
     "output_type": "stream",
     "text": [
      "cuda\n"
     ]
    }
   ],
   "source": [
    "device=torch.device('cuda' if torch.cuda.is_available() else 'cpu')\n",
    "print(device)"
   ]
  },
  {
   "cell_type": "code",
   "execution_count": 3,
   "metadata": {},
   "outputs": [
    {
     "name": "stdout",
     "output_type": "stream",
     "text": [
      "> Found 28099 images...\n",
      "> Found 7025 images...\n"
     ]
    }
   ],
   "source": [
    "train_data = RetinopathyLoader('new_train', 'train')\n",
    "test_data = RetinopathyLoader('new_test', 'test')\n",
    "train_data = DataLoader(train_data, batch_size=8, shuffle=True)\n",
    "test_data = DataLoader(test_data, batch_size=8, shuffle=False)"
   ]
  },
  {
   "attachments": {},
   "cell_type": "markdown",
   "metadata": {},
   "source": [
    "## ResNet Model"
   ]
  },
  {
   "cell_type": "code",
   "execution_count": 4,
   "metadata": {},
   "outputs": [],
   "source": [
    "class Pretrained_ResNet18(nn.Module):\n",
    "    def __init__(self):\n",
    "        \n",
    "        super(Pretrained_ResNet18,self).__init__()\n",
    "        \n",
    "        # ResNet model from torchvision \n",
    "        self.model = models.resnet18(pretrained=True)\n",
    "        \n",
    "        # The number of output neuron of the last fc layer        \n",
    "        \n",
    "        num_features = self.model.fc.in_features\n",
    "        \n",
    "        # Replace the fc layer\n",
    "        self.model.fc = nn.Linear(num_features, 5)\n",
    "        \n",
    "        \n",
    "    def forward(self, x):\n",
    "        x = self.model(x)\n",
    "        return x\n",
    "\n",
    "class ResNet18(nn.Module):\n",
    "    def __init__(self):\n",
    "        \n",
    "        super(ResNet18,self).__init__()\n",
    "        \n",
    "        # ResNet model from torchvision \n",
    "        self.model = models.resnet18(pretrained=False)\n",
    "        \n",
    "        # The number of output neuron of the last fc layer        \n",
    "        \n",
    "        num_features = self.model.fc.in_features\n",
    "        \n",
    "        # Replace the fc layer\n",
    "        self.model.fc = nn.Linear(num_features, 5)\n",
    "        \n",
    "        \n",
    "    def forward(self, x):\n",
    "        x = self.model(x)\n",
    "        return x\n",
    "\n",
    "class Pretrained_ResNet50(nn.Module):\n",
    "    def __init__(self):\n",
    "        \n",
    "        super(Pretrained_ResNet50,self).__init__()\n",
    "        \n",
    "        # ResNet model from torchvision \n",
    "        self.model = models.resnet50(pretrained=True)\n",
    "        \n",
    "        # The number of output neuron of the last fc layer        \n",
    "        \n",
    "        num_features = self.model.fc.in_features\n",
    "        \n",
    "        # Replace the fc layer\n",
    "        self.model.fc = nn.Linear(num_features, 5)\n",
    "        \n",
    "        \n",
    "    def forward(self, x):\n",
    "        x = self.model(x)\n",
    "        return x\n",
    "\n",
    "class ResNet50(nn.Module):\n",
    "    def __init__(self):\n",
    "        \n",
    "        super(ResNet50,self).__init__()\n",
    "        \n",
    "        # ResNet model from torchvision \n",
    "        self.model = models.resnet50(pretrained=False)\n",
    "        \n",
    "        # The number of output neuron of the last fc layer        \n",
    "        \n",
    "        num_features = self.model.fc.in_features\n",
    "        \n",
    "        # Replace the fc layer\n",
    "        self.model.fc = nn.Linear(num_features, 5)\n",
    "        \n",
    "        \n",
    "    def forward(self, x):\n",
    "        x = self.model(x)\n",
    "        return x"
   ]
  },
  {
   "attachments": {},
   "cell_type": "markdown",
   "metadata": {},
   "source": [
    "## ResNet18 Pretrained"
   ]
  },
  {
   "cell_type": "code",
   "execution_count": null,
   "metadata": {},
   "outputs": [],
   "source": [
    "model = torch.load('resnet18_p_best_model.pt')\n",
    "model.eval()\n",
    "with torch.no_grad():\n",
    "        \n",
    "    max_acc=0\n",
    "    correct = 0\n",
    "        \n",
    "    for i, (data, label) in enumerate(tqdm(test_data)):\n",
    "            \n",
    "        label = label.type(torch.LongTensor)\n",
    "        data = data.to(device)\n",
    "        label = label.to(device)\n",
    "            \n",
    "        output = model(data)\n",
    "            \n",
    "        correct += (output.argmax(dim=1) == label).sum().item()\n",
    "        \n",
    "    print(\"Testing Accuracy: \")\n",
    "    print(correct/7025)"
   ]
  },
  {
   "attachments": {},
   "cell_type": "markdown",
   "metadata": {},
   "source": [
    "## ResNet18 (Without Pretrained)"
   ]
  },
  {
   "cell_type": "code",
   "execution_count": null,
   "metadata": {},
   "outputs": [],
   "source": [
    "model = torch.load('resnet18_wp_best_model.pt')\n",
    "model.eval()\n",
    "with torch.no_grad():\n",
    "        \n",
    "    max_acc=0\n",
    "    correct = 0\n",
    "        \n",
    "    for i, (data, label) in enumerate(tqdm(test_data)):\n",
    "            \n",
    "        label = label.type(torch.LongTensor)\n",
    "        data = data.to(device)\n",
    "        label = label.to(device)\n",
    "            \n",
    "        output = model(data)\n",
    "            \n",
    "        correct += (output.argmax(dim=1) == label).sum().item()\n",
    "        \n",
    "    print(\"Testing Accuracy: \")\n",
    "    print(correct/7025)"
   ]
  },
  {
   "attachments": {},
   "cell_type": "markdown",
   "metadata": {},
   "source": [
    "## ResNet50 (Pretrained)"
   ]
  },
  {
   "cell_type": "code",
   "execution_count": null,
   "metadata": {},
   "outputs": [],
   "source": [
    "model = torch.load('resnet50_p_best_model.pt')\n",
    "model.eval()\n",
    "with torch.no_grad():\n",
    "        \n",
    "    max_acc=0\n",
    "    correct = 0\n",
    "        \n",
    "    for i, (data, label) in enumerate(tqdm(test_data)):\n",
    "            \n",
    "        label = label.type(torch.LongTensor)\n",
    "        data = data.to(device)\n",
    "        label = label.to(device)\n",
    "            \n",
    "        output = model(data)\n",
    "            \n",
    "        correct += (output.argmax(dim=1) == label).sum().item()\n",
    "        \n",
    "    print(\"Testing Accuracy: \")\n",
    "    print(correct/7025)"
   ]
  },
  {
   "attachments": {},
   "cell_type": "markdown",
   "metadata": {},
   "source": [
    "## ResNet50 (Without Pretrained)"
   ]
  },
  {
   "cell_type": "code",
   "execution_count": null,
   "metadata": {},
   "outputs": [],
   "source": [
    "model = torch.load('resnet50_wp_best_model.pt')\n",
    "model.eval()\n",
    "with torch.no_grad():\n",
    "        \n",
    "    max_acc=0\n",
    "    correct = 0\n",
    "        \n",
    "    for i, (data, label) in enumerate(tqdm(test_data)):\n",
    "            \n",
    "        label = label.type(torch.LongTensor)\n",
    "        data = data.to(device)\n",
    "        label = label.to(device)\n",
    "            \n",
    "        output = model(data)\n",
    "            \n",
    "        correct += (output.argmax(dim=1) == label).sum().item()\n",
    "        \n",
    "    print(\"Testing Accuracy: \")\n",
    "    print(correct/7025)"
   ]
  }
 ],
 "metadata": {
  "kernelspec": {
   "display_name": "Python 3",
   "language": "python",
   "name": "python3"
  },
  "language_info": {
   "codemirror_mode": {
    "name": "ipython",
    "version": 3
   },
   "file_extension": ".py",
   "mimetype": "text/x-python",
   "name": "python",
   "nbconvert_exporter": "python",
   "pygments_lexer": "ipython3",
   "version": "3.10.8"
  },
  "orig_nbformat": 4
 },
 "nbformat": 4,
 "nbformat_minor": 2
}
